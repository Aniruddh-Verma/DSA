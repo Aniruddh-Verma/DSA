{
 "cells": [
  {
   "attachments": {},
   "cell_type": "markdown",
   "metadata": {},
   "source": [
    "# ARRAYS\n"
   ]
  },
  {
   "attachments": {},
   "cell_type": "markdown",
   "metadata": {},
   "source": [
    "#### PROPERTIES \n",
    "- Each element is of same **Datatype** and same **Size**\n",
    "- Elements are stored in **Contiguous memory location**\n",
    "#### OPERATIONS \n",
    "- array(data type, value list) function used to create an array with datatype and value specified in its arguments.\n",
    "- append() this function is used to add the value mentioned in the argument at the end of the array.\n",
    "- insert(i,x) i is the position of x.\n",
    "- pop() this function removes the element at the position mentioned in its arguments and return it.\n",
    "- remove() this function is used to remove the first occurance of the value mentioned in its arguments."
   ]
  },
  {
   "cell_type": "code",
   "execution_count": 27,
   "metadata": {},
   "outputs": [
    {
     "name": "stdout",
     "output_type": "stream",
     "text": [
      "new array created is :1,2,5,7,8,3,6,\n",
      "pop the element at position 2 : 5\n",
      "array after removing the element 1,2,7,8,3,6,\n",
      "array after removing the element 61,2,7,8,3,\n",
      "elements after appending the arrya: 1,2,7,8,3,16,\n",
      "array after innserting the element 20 at position 3: 1,2,7,20,8,3,16,"
     ]
    }
   ],
   "source": [
    "# importing the array with using below atatement \n",
    "import array as arr\n",
    "# below statement initializes the array \n",
    "integer_array = arr.array('i',[1,2,5,7,8,3,6])\n",
    "# printing the original array\n",
    "print(\"new array created is :\",end=\"\")\n",
    "for i in range(len(integer_array)):\n",
    "      print(integer_array[i],end=\",\")\n",
    "\n",
    "print(\"\\r\")\n",
    "# using pop() to remove the element at second position\n",
    "print(\"pop the element at position 2 :\", end=\" \") \n",
    "print(integer_array.pop(2))\n",
    "\n",
    "# printing the array after popping the elements \n",
    "print(\"array after removing the element\", end=\" \")\n",
    "for i in range(len(integer_array)):\n",
    "      print(integer_array[i],end=\",\")\n",
    "\n",
    "print('\\r')\n",
    "\n",
    "# using remove() to remove 1st occurance of 6\n",
    "integer_array.remove(6)\n",
    "\n",
    "# printing the array after removing the element 6 \n",
    "print(\"array after removing the element 6\", end=\"\")\n",
    "for i in range(len(integer_array)):\n",
    "      print(integer_array[i],end=\",\")\n",
    "print(\"\\r\")\n",
    "# appending an element in an array using append function\n",
    "integer_array.append(16)\n",
    "# printing the array after appending the element \n",
    "print(\"elements after appending the arrya:\",end=\" \")\n",
    "for i in range(len(integer_array)):\n",
    "      print(integer_array[i],end=\",\")\n",
    "print(\"\\r\")\n",
    "# inserting a value in the array at a function\n",
    "integer_array.insert(3,20)\n",
    "# printing the array after inserting 20 at the position 3 \n",
    "print(\"array after innserting the element 20 at position 3:\",end=\" \")\n",
    "for i in range(len(integer_array)):\n",
    "      print(integer_array[i],end=\",\")\n"
   ]
  },
  {
   "cell_type": "code",
   "execution_count": null,
   "metadata": {},
   "outputs": [],
   "source": []
  }
 ],
 "metadata": {
  "kernelspec": {
   "display_name": "py310",
   "language": "python",
   "name": "python3"
  },
  "language_info": {
   "codemirror_mode": {
    "name": "ipython",
    "version": 3
   },
   "file_extension": ".py",
   "mimetype": "text/x-python",
   "name": "python",
   "nbconvert_exporter": "python",
   "pygments_lexer": "ipython3",
   "version": "3.10.6"
  },
  "orig_nbformat": 4,
  "vscode": {
   "interpreter": {
    "hash": "c135332bc3af040b88a6e0c39181874c2763610dce4b8099a6b2fd6a2f0167a2"
   }
  }
 },
 "nbformat": 4,
 "nbformat_minor": 2
}
